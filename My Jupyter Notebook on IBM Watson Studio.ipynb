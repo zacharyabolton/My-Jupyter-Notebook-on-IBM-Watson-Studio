{
 "cells": [
  {
   "cell_type": "markdown",
   "id": "ac087bb9",
   "metadata": {},
   "source": [
    "# My Jupyter Notebook on IBM Watson Studio"
   ]
  },
  {
   "cell_type": "markdown",
   "id": "21e80f94",
   "metadata": {},
   "source": [
    "**Zac Bolton**  \n",
    "Director of Technology"
   ]
  },
  {
   "cell_type": "markdown",
   "id": "26f74aca",
   "metadata": {},
   "source": [
    "_I am interested in data science because it's like solving a mystery. With the right tools and know-how you can be like a cyber Sherlock Holmes._"
   ]
  },
  {
   "cell_type": "markdown",
   "id": "85a546fd",
   "metadata": {},
   "source": [
    "### My code below generates an ascii art rendering of a pipe"
   ]
  },
  {
   "cell_type": "code",
   "execution_count": 35,
   "id": "7ef54071",
   "metadata": {},
   "outputs": [
    {
     "name": "stdout",
     "output_type": "stream",
     "text": [
      "\n",
      " @@@@@@@@@@@                                                                    \n",
      "@@@@@@@@@@@@@@@                                                                 \n",
      " @@@@@@@@@@@@@@@@                                                               \n",
      "            @@@@@@@                                                             \n",
      "               @@@@@@                                                           \n",
      "                @@@@@@@                                                         \n",
      "                  @@@@@@                                                        \n",
      "                   @@@@@@@                                                      \n",
      "                    @@@@@@@                                                     \n",
      "                     @@@@@@@@                                                   \n",
      "                       @@@@@@@                                                  \n",
      "                        @@@@@@@@                                                \n",
      "                         @@@@@@@@                             @@@@@@@@@@@@@     \n",
      "                          @@@@@@@@@                           @@@       @@@@@   \n",
      "                           @@@@@@@@@                        @@            @@@   \n",
      "                            @@@@@@@@@@                      @@@@             @  \n",
      "                             @@@@@@@@@@                     @@@@@@@@@@@@@@@@@@  \n",
      "                              @@@@@@@@@@                   @@@@@@@@@@@@@@@@@@@@ \n",
      "                               @@@@@@@@@ @@                @@@@@@@@@@@@@@@@@@@@ \n",
      "                                @@@@@@@  @@@               @@@@@@@@@@@@@@@@@@@@ \n",
      "                                 @@@@@  @@@@@@            @@@@@@@@@@@@@@@@@@@@@ \n",
      "                                  @@@@ @@@@@@@@           @@@@@@@@@@@@@@@@@@@@@ \n",
      "                                   @@  @@@@@@@@@@         @@@@@@@@@@@@@@@@@@@@@@\n",
      "                                      @@@@@@@@@@@@@      @@@@@@@@@@@@@@@@@@@@@@@\n",
      "                                     @@@@@@@@@@@@@@@    @@@@@@@@@@@@@@@@@@@@@@@@\n",
      "                                      @@@@@@@@@@@@@@@@@@@@@@@@@@@@@@@@@@@@@@@@@@\n",
      "                                       @@@@@@@@@@@@@@@@@@@@@@@@@@@@@@@@@@@@@@@@@\n",
      "                                        @@@@@@@@@@@@@@@@@@@@@@@@@@@@@@@@@@@@@@@@\n",
      "                                         @@@@@@@@@@@@@@@@@@@@@@@@@@@@@@@@@@@@@@@\n",
      "                                          @@@@@@@@@@@@@@@@@@@@@@@@@@@@@@@@@@@@@@\n",
      "                                           @@@@@@@@@@@@@@@@@@@@@@@@@@@@@@@@@@@@@\n",
      "                                            @@@@@@@@@@@@@@@@@@@@@@@@@@@@@@@@@@@@\n",
      "                                             @@@@@@@@@@@@@@@@@@@@@@@@@@@@@@@@@@ \n",
      "                                              @@@@@@@@@@@@@@@@@@@@@@@@@@@@@@@@@ \n",
      "                                                @@@@@@@@@@@@@@@@@@@@@@@@@@@@@@@ \n",
      "                                                 @@@@@@@@@@@@@@@@@@@@@@@@@@@@@  \n",
      "                                                  @@@@@@@@@@@@@@@@@@@@@@@@@@@@  \n",
      "                                                    @@@@@@@@@@@@@@@@@@@@@@@@@   \n",
      "                                                     @@@@@@@@@@@@@@@@@@@@@@@    \n",
      "                                                       @@@@@@@@@@@@@@@@@@@@     \n",
      "                                                         @@@@@@@@@@@@@@@@@      \n",
      "                                                           @@@@@@@@@@@@@        \n",
      "                                                              @@@@@@@@          \n"
     ]
    }
   ],
   "source": [
    "# Define constants\n",
    "PIPE_PIXEL = \"@\"\n",
    "BG_PIXEL = \" \"\n",
    "\n",
    "# Load packages\n",
    "from PIL import Image\n",
    "\n",
    "# Load image and get dims\n",
    "pipe_png = Image.open('pipe.png')\n",
    "pipe_obj = pipe_png.load()\n",
    "\n",
    "WIDTH, HEIGHT = pipe_png.size\n",
    "\n",
    "# Create container for ASCII art\n",
    "pipe_ascii = \"\"\n",
    "\n",
    "# Loop over PNG pixels and fill ASCII art pixels\n",
    "for row in range(HEIGHT):\n",
    "    pipe_ascii += \"\\n\"\n",
    "    for column in range(WIDTH):\n",
    "        pipe_ascii += PIPE_PIXEL if pipe_obj[column,row][3] > (255//2) else BG_PIXEL\n",
    "\n",
    "# Print result\n",
    "print(pipe_ascii)"
   ]
  },
  {
   "cell_type": "markdown",
   "id": "9b89bc50",
   "metadata": {},
   "source": [
    "The above is generated from this image:\n",
    "\n",
    "---\n",
    "\n",
    "![Image of a pipe](pipe.png)\n",
    "\n",
    "---\n",
    "\n",
    "Check me out on [LinkedIn](https://www.linkedin.com/in/zacabolton/)\n",
    "\n",
    "| Name      | Created    | Last Changed |\n",
    "|-----------|------------|--------------|\n",
    "|Zac Bolton | 2022-11-18 | 2022-11-18   |"
   ]
  },
  {
   "cell_type": "code",
   "execution_count": null,
   "id": "219d4320",
   "metadata": {},
   "outputs": [],
   "source": []
  }
 ],
 "metadata": {
  "kernelspec": {
   "display_name": "Python 3",
   "language": "python",
   "name": "python3"
  },
  "language_info": {
   "codemirror_mode": {
    "name": "ipython",
    "version": 3
   },
   "file_extension": ".py",
   "mimetype": "text/x-python",
   "name": "python",
   "nbconvert_exporter": "python",
   "pygments_lexer": "ipython3",
   "version": "3.9.13"
  }
 },
 "nbformat": 4,
 "nbformat_minor": 5
}
